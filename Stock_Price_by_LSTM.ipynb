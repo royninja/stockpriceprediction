{
  "nbformat": 4,
  "nbformat_minor": 0,
  "metadata": {
    "colab": {
      "name": "Stock Price by LSTM.ipynb",
      "provenance": [],
      "collapsed_sections": []
    },
    "kernelspec": {
      "display_name": "Python 3",
      "language": "python",
      "name": "python3"
    },
    "language_info": {
      "codemirror_mode": {
        "name": "ipython",
        "version": 3
      },
      "file_extension": ".py",
      "mimetype": "text/x-python",
      "name": "python",
      "nbconvert_exporter": "python",
      "pygments_lexer": "ipython3",
      "version": "3.8.3"
    }
  },
  "cells": [
    {
      "cell_type": "markdown",
      "metadata": {
        "id": "ml5jY5BZ_WAS"
      },
      "source": [
        "# Forecasting Stock Prices with Long-short term memory Neural Network based on Attention Mechanism ###"
      ]
    },
    {
      "cell_type": "markdown",
      "metadata": {
        "id": "vHaKOzeg_WAd"
      },
      "source": [
        "###### reading the data sets and showing the data set"
      ]
    },
    {
      "cell_type": "code",
      "metadata": {
        "colab": {
          "base_uri": "https://localhost:8080/"
        },
        "id": "b_kU8mVXT_1i",
        "outputId": "7ff795b1-b866-4572-e1bd-afe1c726fe2f"
      },
      "source": [
        "from google.colab import drive\n",
        "drive.mount('/content/drive')"
      ],
      "execution_count": null,
      "outputs": [
        {
          "output_type": "stream",
          "text": [
            "Mounted at /content/drive\n"
          ],
          "name": "stdout"
        }
      ]
    },
    {
      "cell_type": "code",
      "metadata": {
        "id": "VAhJGVnd_WAe"
      },
      "source": [
        "import pandas as pd\n",
        "url=\"/content/drive/MyDrive/Colab Notebooks/HSI.csv\"\n",
        "df = pd.read_csv(url)"
      ],
      "execution_count": null,
      "outputs": []
    },
    {
      "cell_type": "code",
      "metadata": {
        "colab": {
          "base_uri": "https://localhost:8080/",
          "height": 206
        },
        "id": "oF-KkGCM_WAg",
        "outputId": "000b68ab-c758-4a65-d6bc-ff8612f9139a"
      },
      "source": [
        "df.head()"
      ],
      "execution_count": null,
      "outputs": [
        {
          "output_type": "execute_result",
          "data": {
            "text/html": [
              "<div>\n",
              "<style scoped>\n",
              "    .dataframe tbody tr th:only-of-type {\n",
              "        vertical-align: middle;\n",
              "    }\n",
              "\n",
              "    .dataframe tbody tr th {\n",
              "        vertical-align: top;\n",
              "    }\n",
              "\n",
              "    .dataframe thead th {\n",
              "        text-align: right;\n",
              "    }\n",
              "</style>\n",
              "<table border=\"1\" class=\"dataframe\">\n",
              "  <thead>\n",
              "    <tr style=\"text-align: right;\">\n",
              "      <th></th>\n",
              "      <th>Date</th>\n",
              "      <th>Open</th>\n",
              "      <th>High</th>\n",
              "      <th>Low</th>\n",
              "      <th>Close</th>\n",
              "      <th>Adj Close</th>\n",
              "      <th>Volume</th>\n",
              "    </tr>\n",
              "  </thead>\n",
              "  <tbody>\n",
              "    <tr>\n",
              "      <th>0</th>\n",
              "      <td>2002/1/2</td>\n",
              "      <td>11368.12988</td>\n",
              "      <td>11368.12988</td>\n",
              "      <td>11241.62988</td>\n",
              "      <td>11350.84961</td>\n",
              "      <td>11350.84961</td>\n",
              "      <td>106074600</td>\n",
              "    </tr>\n",
              "    <tr>\n",
              "      <th>1</th>\n",
              "      <td>2002/1/3</td>\n",
              "      <td>11348.79981</td>\n",
              "      <td>11447.00000</td>\n",
              "      <td>11348.79981</td>\n",
              "      <td>11423.51953</td>\n",
              "      <td>11423.51953</td>\n",
              "      <td>274626200</td>\n",
              "    </tr>\n",
              "    <tr>\n",
              "      <th>2</th>\n",
              "      <td>2002/1/4</td>\n",
              "      <td>11547.00977</td>\n",
              "      <td>11727.80957</td>\n",
              "      <td>11547.00977</td>\n",
              "      <td>11702.15039</td>\n",
              "      <td>11702.15039</td>\n",
              "      <td>362553600</td>\n",
              "    </tr>\n",
              "    <tr>\n",
              "      <th>3</th>\n",
              "      <td>2002/1/7</td>\n",
              "      <td>11687.42969</td>\n",
              "      <td>11905.54981</td>\n",
              "      <td>11687.42969</td>\n",
              "      <td>11892.63965</td>\n",
              "      <td>11892.63965</td>\n",
              "      <td>442387000</td>\n",
              "    </tr>\n",
              "    <tr>\n",
              "      <th>4</th>\n",
              "      <td>2002/1/8</td>\n",
              "      <td>11781.19043</td>\n",
              "      <td>11806.25000</td>\n",
              "      <td>11678.05957</td>\n",
              "      <td>11713.70996</td>\n",
              "      <td>11713.70996</td>\n",
              "      <td>279504600</td>\n",
              "    </tr>\n",
              "  </tbody>\n",
              "</table>\n",
              "</div>"
            ],
            "text/plain": [
              "       Date         Open         High  ...        Close    Adj Close     Volume\n",
              "0  2002/1/2  11368.12988  11368.12988  ...  11350.84961  11350.84961  106074600\n",
              "1  2002/1/3  11348.79981  11447.00000  ...  11423.51953  11423.51953  274626200\n",
              "2  2002/1/4  11547.00977  11727.80957  ...  11702.15039  11702.15039  362553600\n",
              "3  2002/1/7  11687.42969  11905.54981  ...  11892.63965  11892.63965  442387000\n",
              "4  2002/1/8  11781.19043  11806.25000  ...  11713.70996  11713.70996  279504600\n",
              "\n",
              "[5 rows x 7 columns]"
            ]
          },
          "metadata": {
            "tags": []
          },
          "execution_count": 3
        }
      ]
    },
    {
      "cell_type": "code",
      "metadata": {
        "id": "RkNByyEr_WAh"
      },
      "source": [
        "df1 = df.reset_index()['Open']  # selecting the opening Price for the prediction"
      ],
      "execution_count": null,
      "outputs": []
    },
    {
      "cell_type": "code",
      "metadata": {
        "colab": {
          "base_uri": "https://localhost:8080/"
        },
        "id": "TryqzYt1_WAh",
        "outputId": "460d7447-0990-4b79-d529-7a7b4d9bf210"
      },
      "source": [
        "df1   #all the values are inside the df2"
      ],
      "execution_count": null,
      "outputs": [
        {
          "output_type": "execute_result",
          "data": {
            "text/plain": [
              "0       11368.12988\n",
              "1       11348.79981\n",
              "2       11547.00977\n",
              "3       11687.42969\n",
              "4       11781.19043\n",
              "           ...     \n",
              "4299    28447.96094\n",
              "4300    28046.16016\n",
              "4301    28352.93945\n",
              "4302    28632.58984\n",
              "4303    28352.93945\n",
              "Name: Open, Length: 4304, dtype: float64"
            ]
          },
          "metadata": {
            "tags": []
          },
          "execution_count": 5
        }
      ]
    },
    {
      "cell_type": "markdown",
      "metadata": {
        "id": "N11YkLAz_WAk"
      },
      "source": [
        "\n",
        "\n",
        "#### Now Plotting the Opeing Price with noise"
      ]
    },
    {
      "cell_type": "code",
      "metadata": {
        "colab": {
          "base_uri": "https://localhost:8080/",
          "height": 336
        },
        "id": "zpK3hOKq_WAk",
        "outputId": "d1434ca4-960f-4281-d89e-85b3654eabb0"
      },
      "source": [
        "import matplotlib.pyplot as plt\n",
        "plt.figure(figsize = (13, 5))\n",
        "plt.plot(df1, linewidth = 2)\n",
        "plt.title('Opening Price of Stock')\n",
        "plt.grid()"
      ],
      "execution_count": null,
      "outputs": [
        {
          "output_type": "display_data",
          "data": {
            "image/png": "[encoded data removed]",
            "text/plain": [
              "<Figure size 936x360 with 1 Axes>"
            ]
          },
          "metadata": {
            "tags": [],
            "needs_background": "light"
          }
        }
      ]
    },
    {
      "cell_type": "markdown",
      "metadata": {
        "id": "V6FVi6X_2itX"
      },
      "source": [
        "\n",
        "\n",
        "**Now Ploting the graph with denoising**\n"
      ]
    },
    {
      "cell_type": "code",
      "metadata": {
        "id": "DxSJWk6h25bz",
        "colab": {
          "base_uri": "https://localhost:8080/",
          "height": 338
        },
        "outputId": "48ada0e0-dc16-4e5f-cfee-d13218690d54"
      },
      "source": [
        "from scipy.signal import lfilter\n",
        "\n",
        "n = 15  # the larger n is, the smoother curve will be\n",
        "b = [1.0 / n] * n\n",
        "a = 1\n",
        "df1 = lfilter(b,a,df1)\n",
        "plt.figure(figsize = (13, 5))\n",
        "plt.plot(df1, linewidth=2, c=\"b\")"
      ],
      "execution_count": null,
      "outputs": [
        {
          "output_type": "execute_result",
          "data": {
            "text/plain": [
              "[<matplotlib.lines.Line2D at 0x7fcafc432fd0>]"
            ]
          },
          "metadata": {
            "tags": []
          },
          "execution_count": 7
        },
        {
          "output_type": "display_data",
          "data": {
            "image/png": "[encoded data removed]",
            "text/plain": [
              "<Figure size 936x360 with 1 Axes>"
            ]
          },
          "metadata": {
            "tags": [],
            "needs_background": "light"
          }
        }
      ]
    },
    {
      "cell_type": "markdown",
      "metadata": {
        "id": "1rU6a5II_WAm"
      },
      "source": [
        "### LSTM are sensitive to the scale of the data so, we apply minmax scalar"
      ]
    },
    {
      "cell_type": "code",
      "metadata": {
        "id": "CBSBs3LE_WAo"
      },
      "source": [
        "import numpy as np\n",
        "from sklearn.preprocessing import MinMaxScaler\n",
        "scalar = MinMaxScaler(feature_range=(0,1))\n",
        "df1 = scalar.fit_transform(np.array(df1).reshape(-1,1))"
      ],
      "execution_count": null,
      "outputs": []
    },
    {
      "cell_type": "code",
      "metadata": {
        "colab": {
          "base_uri": "https://localhost:8080/"
        },
        "id": "PCOt7T6D_WAp",
        "outputId": "0a64bb90-45ab-4579-d82a-25c92e09c1be"
      },
      "source": [
        "df1.shape"
      ],
      "execution_count": null,
      "outputs": [
        {
          "output_type": "execute_result",
          "data": {
            "text/plain": [
              "(4304, 1)"
            ]
          },
          "metadata": {
            "tags": []
          },
          "execution_count": 9
        }
      ]
    },
    {
      "cell_type": "markdown",
      "metadata": {
        "id": "8zlZOPrb_WAr"
      },
      "source": [
        "### Spliting the data into train data and test data"
      ]
    },
    {
      "cell_type": "code",
      "metadata": {
        "id": "QufT33id_WAr"
      },
      "source": [
        "training_size = int(len(df1)*0.65)\n",
        "test_size = len(df1)-training_size\n",
        "train_data,test_data = df1[0:training_size,:],df1[training_size:len(df1),:1]"
      ],
      "execution_count": null,
      "outputs": []
    },
    {
      "cell_type": "code",
      "metadata": {
        "colab": {
          "base_uri": "https://localhost:8080/"
        },
        "id": "TPvhKOWW_WAr",
        "outputId": "203a9115-55fe-4e6d-a1e0-af22f93f8b5e"
      },
      "source": [
        "training_size, test_size"
      ],
      "execution_count": null,
      "outputs": [
        {
          "output_type": "execute_result",
          "data": {
            "text/plain": [
              "(2797, 1507)"
            ]
          },
          "metadata": {
            "tags": []
          },
          "execution_count": 48
        }
      ]
    },
    {
      "cell_type": "code",
      "metadata": {
        "id": "B3pfr9kU_WAr"
      },
      "source": [
        "import numpy\n",
        "#convert an array of values into a dataset matrix\n",
        "def create_dataset(dataset, time_step=1):\n",
        "    dataX, dataY = [],[]\n",
        "    for i in range(len(dataset)-time_step-1):\n",
        "        a = dataset[i:(i+time_step),0]  ##0,0,1,2,3,\n",
        "        dataX.append(a)\n",
        "        dataY.append(dataset[i+time_step,0])\n",
        "    return numpy.array(dataX), numpy.array(dataY)"
      ],
      "execution_count": null,
      "outputs": []
    },
    {
      "cell_type": "code",
      "metadata": {
        "id": "7FHw4twA_WAt"
      },
      "source": [
        "#reshape into X=t,t+1,t+2, t+3 and Y = t+4\n",
        "time_step = 100\n",
        "X_train, y_train = create_dataset(train_data, time_step)\n",
        "X_test,y_test = create_dataset(test_data, time_step)"
      ],
      "execution_count": null,
      "outputs": []
    },
    {
      "cell_type": "code",
      "metadata": {
        "colab": {
          "base_uri": "https://localhost:8080/"
        },
        "id": "_eFCESuw_WAt",
        "outputId": "80a4b37e-15bc-481e-9771-37f6613f1054"
      },
      "source": [
        "print(X_train)"
      ],
      "execution_count": null,
      "outputs": [
        {
          "output_type": "stream",
          "text": [
            "[[0.         0.02386531 0.04814743 ... 0.34691568 0.34594961 0.34474682]\n",
            " [0.02386531 0.04814743 0.07272484 ... 0.34594961 0.34474682 0.34394507]\n",
            " [0.04814743 0.07272484 0.09749942 ... 0.34474682 0.34394507 0.34315754]\n",
            " ...\n",
            " [0.65734564 0.65821456 0.65940909 ... 0.6722718  0.67380473 0.67509454]\n",
            " [0.65821456 0.65940909 0.66186306 ... 0.67380473 0.67509454 0.67673988]\n",
            " [0.65940909 0.66186306 0.66415713 ... 0.67509454 0.67673988 0.67868621]]\n"
          ],
          "name": "stdout"
        }
      ]
    },
    {
      "cell_type": "code",
      "metadata": {
        "colab": {
          "base_uri": "https://localhost:8080/"
        },
        "id": "pG-H7-HG_WAt",
        "outputId": "46656640-fb9f-4132-ba25-3395f498841e"
      },
      "source": [
        "print(X_test.shape), print(y_test.shape)"
      ],
      "execution_count": null,
      "outputs": [
        {
          "output_type": "stream",
          "text": [
            "(1406, 100)\n",
            "(1406,)\n"
          ],
          "name": "stdout"
        },
        {
          "output_type": "execute_result",
          "data": {
            "text/plain": [
              "(None, None)"
            ]
          },
          "metadata": {
            "tags": []
          },
          "execution_count": 14
        }
      ]
    },
    {
      "cell_type": "code",
      "metadata": {
        "colab": {
          "base_uri": "https://localhost:8080/"
        },
        "id": "JkuBRmdk_WAt",
        "outputId": "b5e4d5b6-c4c5-4f3f-f110-6d3d96698421"
      },
      "source": [
        "print(X_train.shape), print(y_train.shape)"
      ],
      "execution_count": null,
      "outputs": [
        {
          "output_type": "stream",
          "text": [
            "(2696, 100)\n",
            "(2696,)\n"
          ],
          "name": "stdout"
        },
        {
          "output_type": "execute_result",
          "data": {
            "text/plain": [
              "(None, None)"
            ]
          },
          "metadata": {
            "tags": []
          },
          "execution_count": 15
        }
      ]
    },
    {
      "cell_type": "code",
      "metadata": {
        "id": "MaHkFB0K_WAu"
      },
      "source": [
        "#reshape input to be [samples, time_steps, features] which is required for LSTM\n",
        "X_train = X_train.reshape(X_train.shape[0],X_train.shape[1],1)\n",
        "X_test = X_test.reshape(X_test.shape[0],X_test.shape[1],1)"
      ],
      "execution_count": null,
      "outputs": []
    },
    {
      "cell_type": "markdown",
      "metadata": {
        "id": "g-h9BLAdACa_"
      },
      "source": [
        "**Creating the LST Model**"
      ]
    },
    {
      "cell_type": "code",
      "metadata": {
        "id": "h0KJ23zC_WAu"
      },
      "source": [
        "from tensorflow.keras.models import Sequential\n",
        "from tensorflow.keras.layers import Dense\n",
        "from tensorflow.keras.layers import LSTM"
      ],
      "execution_count": null,
      "outputs": []
    },
    {
      "cell_type": "code",
      "metadata": {
        "id": "dIXM9H_rAH6o"
      },
      "source": [
        "model = Sequential()\n",
        "model.add(LSTM(50, return_sequences=True, input_shape=(100,1)))\n",
        "model.add(LSTM(50, return_sequences=True))\n",
        "model.add(LSTM(50))\n",
        "model.add(Dense(1))\n",
        "model.compile(loss='mean_squared_error',optimizer='adam')"
      ],
      "execution_count": null,
      "outputs": []
    },
    {
      "cell_type": "code",
      "metadata": {
        "colab": {
          "base_uri": "https://localhost:8080/"
        },
        "id": "pxRXAtknChHs",
        "outputId": "c9618a29-4012-4fbc-8d4e-ae79aafd711d"
      },
      "source": [
        "model.summary()"
      ],
      "execution_count": null,
      "outputs": [
        {
          "output_type": "stream",
          "text": [
            "Model: \"sequential\"\n",
            "_________________________________________________________________\n",
            "Layer (type)                 Output Shape              Param #   \n",
            "=================================================================\n",
            "lstm (LSTM)                  (None, 100, 50)           10400     \n",
            "_________________________________________________________________\n",
            "lstm_1 (LSTM)                (None, 100, 50)           20200     \n",
            "_________________________________________________________________\n",
            "lstm_2 (LSTM)                (None, 50)                20200     \n",
            "_________________________________________________________________\n",
            "dense (Dense)                (None, 1)                 51        \n",
            "=================================================================\n",
            "Total params: 50,851\n",
            "Trainable params: 50,851\n",
            "Non-trainable params: 0\n",
            "_________________________________________________________________\n"
          ],
          "name": "stdout"
        }
      ]
    },
    {
      "cell_type": "code",
      "metadata": {
        "colab": {
          "base_uri": "https://localhost:8080/"
        },
        "id": "j80ouDc4CmbU",
        "outputId": "c0c7b7eb-ac43-455f-f14c-d0bcf33ae93b"
      },
      "source": [
        "model.fit(X_train,y_train,validation_data=(X_test,y_test),epochs=100, batch_size=64, verbose=1)"
      ],
      "execution_count": null,
      "outputs": [
        {
          "output_type": "stream",
          "text": [
            "Epoch 1/100\n",
            "43/43 [==============================] - 7s 172ms/step - loss: 1.9153e-05 - val_loss: 8.6184e-06\n",
            "Epoch 2/100\n",
            "43/43 [==============================] - 7s 171ms/step - loss: 2.8215e-05 - val_loss: 2.0229e-05\n",
            "Epoch 3/100\n",
            "43/43 [==============================] - 7s 171ms/step - loss: 1.4748e-05 - val_loss: 1.2678e-05\n",
            "Epoch 4/100\n",
            "43/43 [==============================] - 7s 171ms/step - loss: 2.8840e-05 - val_loss: 2.4040e-05\n",
            "Epoch 5/100\n",
            "43/43 [==============================] - 7s 171ms/step - loss: 3.0059e-05 - val_loss: 3.8934e-05\n",
            "Epoch 6/100\n",
            "43/43 [==============================] - 7s 170ms/step - loss: 1.5221e-05 - val_loss: 2.1044e-05\n",
            "Epoch 7/100\n",
            "43/43 [==============================] - 7s 171ms/step - loss: 2.1654e-05 - val_loss: 4.9035e-04\n",
            "Epoch 8/100\n",
            "43/43 [==============================] - 7s 171ms/step - loss: 4.6086e-05 - val_loss: 2.1999e-05\n",
            "Epoch 9/100\n",
            "43/43 [==============================] - 7s 172ms/step - loss: 2.2426e-05 - val_loss: 1.1599e-04\n",
            "Epoch 10/100\n",
            "43/43 [==============================] - 7s 170ms/step - loss: 2.9552e-05 - val_loss: 7.5494e-06\n",
            "Epoch 11/100\n",
            "43/43 [==============================] - 7s 170ms/step - loss: 2.3781e-05 - val_loss: 8.4870e-06\n",
            "Epoch 12/100\n",
            "43/43 [==============================] - 7s 170ms/step - loss: 2.1709e-05 - val_loss: 1.7506e-05\n",
            "Epoch 13/100\n",
            "43/43 [==============================] - 7s 171ms/step - loss: 1.5810e-05 - val_loss: 3.2512e-05\n",
            "Epoch 14/100\n",
            "43/43 [==============================] - 7s 172ms/step - loss: 1.6330e-05 - val_loss: 1.4186e-05\n",
            "Epoch 15/100\n",
            "43/43 [==============================] - 7s 171ms/step - loss: 2.0196e-05 - val_loss: 9.1269e-05\n",
            "Epoch 16/100\n",
            "43/43 [==============================] - 7s 174ms/step - loss: 2.2988e-05 - val_loss: 1.7823e-04\n",
            "Epoch 17/100\n",
            "43/43 [==============================] - 8s 175ms/step - loss: 3.0098e-05 - val_loss: 1.4832e-04\n",
            "Epoch 18/100\n",
            "43/43 [==============================] - 7s 171ms/step - loss: 2.2546e-05 - val_loss: 6.4077e-06\n",
            "Epoch 19/100\n",
            "43/43 [==============================] - 7s 171ms/step - loss: 1.4384e-05 - val_loss: 6.0466e-05\n",
            "Epoch 20/100\n",
            "43/43 [==============================] - 7s 170ms/step - loss: 2.6281e-05 - val_loss: 2.9977e-05\n",
            "Epoch 21/100\n",
            "43/43 [==============================] - 7s 172ms/step - loss: 2.0498e-05 - val_loss: 5.5693e-05\n",
            "Epoch 22/100\n",
            "43/43 [==============================] - 7s 172ms/step - loss: 2.0602e-05 - val_loss: 1.1816e-05\n",
            "Epoch 23/100\n",
            "43/43 [==============================] - 7s 172ms/step - loss: 1.5241e-05 - val_loss: 6.1382e-06\n",
            "Epoch 24/100\n",
            "43/43 [==============================] - 7s 170ms/step - loss: 1.6369e-05 - val_loss: 8.9373e-05\n",
            "Epoch 25/100\n",
            "43/43 [==============================] - 7s 171ms/step - loss: 1.9094e-05 - val_loss: 1.2193e-05\n",
            "Epoch 26/100\n",
            "43/43 [==============================] - 7s 171ms/step - loss: 1.6082e-05 - val_loss: 2.6184e-04\n",
            "Epoch 27/100\n",
            "43/43 [==============================] - 7s 171ms/step - loss: 2.0910e-05 - val_loss: 2.9118e-05\n",
            "Epoch 28/100\n",
            "43/43 [==============================] - 7s 171ms/step - loss: 2.8545e-05 - val_loss: 6.9733e-06\n",
            "Epoch 29/100\n",
            "43/43 [==============================] - 7s 171ms/step - loss: 1.1252e-05 - val_loss: 1.3989e-05\n",
            "Epoch 30/100\n",
            "43/43 [==============================] - 7s 171ms/step - loss: 1.5207e-05 - val_loss: 5.4374e-06\n",
            "Epoch 31/100\n",
            "43/43 [==============================] - 7s 170ms/step - loss: 4.5149e-05 - val_loss: 4.4442e-05\n",
            "Epoch 32/100\n",
            "43/43 [==============================] - 7s 171ms/step - loss: 2.4277e-05 - val_loss: 5.6789e-06\n",
            "Epoch 33/100\n",
            "43/43 [==============================] - 7s 171ms/step - loss: 1.0611e-05 - val_loss: 1.0759e-05\n",
            "Epoch 34/100\n",
            "43/43 [==============================] - 7s 171ms/step - loss: 1.1278e-05 - val_loss: 5.0531e-06\n",
            "Epoch 35/100\n",
            "43/43 [==============================] - 7s 173ms/step - loss: 1.2902e-05 - val_loss: 6.9612e-05\n",
            "Epoch 36/100\n",
            "43/43 [==============================] - 7s 172ms/step - loss: 1.5417e-05 - val_loss: 3.9013e-05\n",
            "Epoch 37/100\n",
            "43/43 [==============================] - 7s 171ms/step - loss: 1.1347e-05 - val_loss: 2.7523e-05\n",
            "Epoch 38/100\n",
            "43/43 [==============================] - 7s 172ms/step - loss: 1.2151e-05 - val_loss: 6.0669e-06\n",
            "Epoch 39/100\n",
            "43/43 [==============================] - 7s 171ms/step - loss: 1.2884e-05 - val_loss: 2.6694e-04\n",
            "Epoch 40/100\n",
            "43/43 [==============================] - 7s 170ms/step - loss: 2.9966e-05 - val_loss: 5.8994e-06\n",
            "Epoch 41/100\n",
            "43/43 [==============================] - 7s 172ms/step - loss: 8.4878e-06 - val_loss: 4.8035e-06\n",
            "Epoch 42/100\n",
            "43/43 [==============================] - 7s 171ms/step - loss: 7.8374e-06 - val_loss: 8.0593e-06\n",
            "Epoch 43/100\n",
            "43/43 [==============================] - 7s 171ms/step - loss: 1.1360e-05 - val_loss: 6.7642e-06\n",
            "Epoch 44/100\n",
            "43/43 [==============================] - 7s 171ms/step - loss: 1.3820e-05 - val_loss: 4.1503e-05\n",
            "Epoch 45/100\n",
            "43/43 [==============================] - 7s 172ms/step - loss: 2.2845e-05 - val_loss: 2.7276e-05\n",
            "Epoch 46/100\n",
            "43/43 [==============================] - 7s 171ms/step - loss: 9.1767e-06 - val_loss: 1.1470e-05\n",
            "Epoch 47/100\n",
            "43/43 [==============================] - 7s 171ms/step - loss: 9.7741e-06 - val_loss: 1.3980e-05\n",
            "Epoch 48/100\n",
            "43/43 [==============================] - 7s 171ms/step - loss: 1.3243e-05 - val_loss: 1.3859e-05\n",
            "Epoch 49/100\n",
            "43/43 [==============================] - 7s 171ms/step - loss: 1.2090e-05 - val_loss: 8.5121e-06\n",
            "Epoch 50/100\n",
            "43/43 [==============================] - 7s 170ms/step - loss: 2.3283e-05 - val_loss: 4.1374e-05\n",
            "Epoch 51/100\n",
            "43/43 [==============================] - 7s 171ms/step - loss: 1.1795e-05 - val_loss: 9.4414e-06\n",
            "Epoch 52/100\n",
            "43/43 [==============================] - 7s 171ms/step - loss: 9.5701e-06 - val_loss: 7.2781e-06\n",
            "Epoch 53/100\n",
            "43/43 [==============================] - 7s 173ms/step - loss: 6.2478e-06 - val_loss: 6.0935e-05\n",
            "Epoch 54/100\n",
            "43/43 [==============================] - 7s 173ms/step - loss: 2.0171e-05 - val_loss: 8.9785e-06\n",
            "Epoch 55/100\n",
            "43/43 [==============================] - 7s 172ms/step - loss: 8.6394e-06 - val_loss: 4.9434e-06\n",
            "Epoch 56/100\n",
            "43/43 [==============================] - 7s 171ms/step - loss: 8.0792e-06 - val_loss: 3.7972e-06\n",
            "Epoch 57/100\n",
            "43/43 [==============================] - 7s 170ms/step - loss: 2.7967e-05 - val_loss: 1.1771e-04\n",
            "Epoch 58/100\n",
            "43/43 [==============================] - 7s 173ms/step - loss: 2.6932e-05 - val_loss: 2.5713e-05\n",
            "Epoch 59/100\n",
            "43/43 [==============================] - 8s 176ms/step - loss: 9.8753e-06 - val_loss: 3.9632e-06\n",
            "Epoch 60/100\n",
            "43/43 [==============================] - 7s 172ms/step - loss: 7.3114e-06 - val_loss: 6.7179e-06\n",
            "Epoch 61/100\n",
            "43/43 [==============================] - 7s 172ms/step - loss: 5.9521e-06 - val_loss: 2.6150e-05\n",
            "Epoch 62/100\n",
            "43/43 [==============================] - 7s 174ms/step - loss: 1.9639e-05 - val_loss: 6.4466e-06\n",
            "Epoch 63/100\n",
            "43/43 [==============================] - 7s 172ms/step - loss: 1.1205e-05 - val_loss: 1.1385e-04\n",
            "Epoch 64/100\n",
            "43/43 [==============================] - 7s 171ms/step - loss: 1.1602e-05 - val_loss: 4.5921e-06\n",
            "Epoch 65/100\n",
            "43/43 [==============================] - 7s 171ms/step - loss: 1.0107e-05 - val_loss: 8.7491e-06\n",
            "Epoch 66/100\n",
            "43/43 [==============================] - 7s 171ms/step - loss: 1.1189e-05 - val_loss: 8.5234e-05\n",
            "Epoch 67/100\n",
            "43/43 [==============================] - 7s 171ms/step - loss: 3.4155e-05 - val_loss: 9.9410e-05\n",
            "Epoch 68/100\n",
            "43/43 [==============================] - 7s 171ms/step - loss: 1.8775e-05 - val_loss: 3.3826e-06\n",
            "Epoch 69/100\n",
            "43/43 [==============================] - 7s 172ms/step - loss: 5.6724e-06 - val_loss: 4.8660e-05\n",
            "Epoch 70/100\n",
            "43/43 [==============================] - 7s 173ms/step - loss: 9.2061e-06 - val_loss: 4.6070e-05\n",
            "Epoch 71/100\n",
            "43/43 [==============================] - 7s 173ms/step - loss: 9.0437e-06 - val_loss: 3.2560e-06\n",
            "Epoch 72/100\n",
            "43/43 [==============================] - 7s 173ms/step - loss: 8.3559e-06 - val_loss: 2.4331e-05\n",
            "Epoch 73/100\n",
            "43/43 [==============================] - 7s 172ms/step - loss: 3.3621e-05 - val_loss: 3.0173e-05\n",
            "Epoch 74/100\n",
            "43/43 [==============================] - 7s 172ms/step - loss: 2.2729e-05 - val_loss: 3.1335e-06\n",
            "Epoch 75/100\n",
            "43/43 [==============================] - 7s 172ms/step - loss: 5.4180e-06 - val_loss: 3.7042e-06\n",
            "Epoch 76/100\n",
            "43/43 [==============================] - 7s 174ms/step - loss: 6.5698e-06 - val_loss: 6.1130e-06\n",
            "Epoch 77/100\n",
            "43/43 [==============================] - 7s 173ms/step - loss: 6.5374e-06 - val_loss: 1.3975e-05\n",
            "Epoch 78/100\n",
            "43/43 [==============================] - 7s 172ms/step - loss: 7.4969e-06 - val_loss: 4.0550e-06\n",
            "Epoch 79/100\n",
            "43/43 [==============================] - 7s 173ms/step - loss: 4.4865e-06 - val_loss: 8.4419e-06\n",
            "Epoch 80/100\n",
            "43/43 [==============================] - 7s 173ms/step - loss: 9.2926e-06 - val_loss: 1.1561e-05\n",
            "Epoch 81/100\n",
            "43/43 [==============================] - 7s 173ms/step - loss: 5.9684e-06 - val_loss: 2.9545e-06\n",
            "Epoch 82/100\n",
            "43/43 [==============================] - 7s 172ms/step - loss: 6.7254e-06 - val_loss: 2.7706e-06\n",
            "Epoch 83/100\n",
            "43/43 [==============================] - 7s 170ms/step - loss: 9.5097e-06 - val_loss: 8.3730e-06\n",
            "Epoch 84/100\n",
            "43/43 [==============================] - 7s 173ms/step - loss: 9.0634e-06 - val_loss: 6.0918e-06\n",
            "Epoch 85/100\n",
            "43/43 [==============================] - 7s 172ms/step - loss: 7.0215e-06 - val_loss: 3.0464e-06\n",
            "Epoch 86/100\n",
            "43/43 [==============================] - 7s 172ms/step - loss: 1.0231e-05 - val_loss: 1.7741e-05\n",
            "Epoch 87/100\n",
            "43/43 [==============================] - 7s 171ms/step - loss: 1.2655e-05 - val_loss: 6.9379e-06\n",
            "Epoch 88/100\n",
            "43/43 [==============================] - 7s 171ms/step - loss: 5.8807e-06 - val_loss: 3.4913e-06\n",
            "Epoch 89/100\n",
            "43/43 [==============================] - 7s 172ms/step - loss: 6.8027e-06 - val_loss: 4.9441e-06\n",
            "Epoch 90/100\n",
            "43/43 [==============================] - 7s 172ms/step - loss: 1.0568e-05 - val_loss: 8.5680e-05\n",
            "Epoch 91/100\n",
            "43/43 [==============================] - 7s 172ms/step - loss: 1.3674e-05 - val_loss: 1.0178e-05\n",
            "Epoch 92/100\n",
            "43/43 [==============================] - 7s 171ms/step - loss: 1.1286e-05 - val_loss: 7.0605e-06\n",
            "Epoch 93/100\n",
            "43/43 [==============================] - 7s 172ms/step - loss: 1.1673e-05 - val_loss: 2.6597e-06\n",
            "Epoch 94/100\n",
            "43/43 [==============================] - 7s 173ms/step - loss: 8.2934e-06 - val_loss: 1.8850e-04\n",
            "Epoch 95/100\n",
            "43/43 [==============================] - 7s 173ms/step - loss: 2.6504e-05 - val_loss: 1.6098e-05\n",
            "Epoch 96/100\n",
            "43/43 [==============================] - 7s 173ms/step - loss: 1.5392e-05 - val_loss: 3.9925e-06\n",
            "Epoch 97/100\n",
            "43/43 [==============================] - 7s 174ms/step - loss: 7.5448e-06 - val_loss: 2.7685e-05\n",
            "Epoch 98/100\n",
            "43/43 [==============================] - 7s 173ms/step - loss: 8.2187e-06 - val_loss: 5.1800e-06\n",
            "Epoch 99/100\n",
            "43/43 [==============================] - 7s 173ms/step - loss: 5.7327e-06 - val_loss: 2.2257e-04\n",
            "Epoch 100/100\n",
            "43/43 [==============================] - 8s 175ms/step - loss: 1.8038e-05 - val_loss: 2.5950e-05\n"
          ],
          "name": "stdout"
        },
        {
          "output_type": "execute_result",
          "data": {
            "text/plain": [
              "<tensorflow.python.keras.callbacks.History at 0x7fcac0666d50>"
            ]
          },
          "metadata": {
            "tags": []
          },
          "execution_count": 39
        }
      ]
    },
    {
      "cell_type": "code",
      "metadata": {
        "id": "DHpJliUWDXiz"
      },
      "source": [
        "#lets train predict\n",
        "train_predict = model.predict(X_train)\n",
        "test_predict = model.predict(X_test)"
      ],
      "execution_count": null,
      "outputs": []
    },
    {
      "cell_type": "code",
      "metadata": {
        "id": "JxdjE4k8nqC3"
      },
      "source": [
        "#transform to original form\n",
        "scalar.fit(train_predict)\n",
        "train_predict = scalar.inverse_transform(train_predict)\n",
        "scalar.fit(test_predict)\n",
        "test_predict = scalar.inverse_transform(test_predict)"
      ],
      "execution_count": null,
      "outputs": []
    },
    {
      "cell_type": "code",
      "metadata": {
        "colab": {
          "base_uri": "https://localhost:8080/"
        },
        "id": "M8CiMrLtoMKF",
        "outputId": "478767b2-9bfe-4ef1-bffe-2a7f71aabe77"
      },
      "source": [
        "#calculate RMSE on performance metrics\n",
        "import math\n",
        "from sklearn.metrics import mean_squared_error\n",
        "math.sqrt(mean_squared_error(y_train,train_predict))"
      ],
      "execution_count": null,
      "outputs": [
        {
          "output_type": "execute_result",
          "data": {
            "text/plain": [
              "0.08740114301723127"
            ]
          },
          "metadata": {
            "tags": []
          },
          "execution_count": 42
        }
      ]
    },
    {
      "cell_type": "code",
      "metadata": {
        "colab": {
          "base_uri": "https://localhost:8080/"
        },
        "id": "xe__yHsFotBr",
        "outputId": "30f65fcd-1bb3-4b75-d35f-d4787a18f4cf"
      },
      "source": [
        "#calculate RMSE on test data\n",
        "math.sqrt(mean_squared_error(y_test,test_predict))"
      ],
      "execution_count": null,
      "outputs": [
        {
          "output_type": "execute_result",
          "data": {
            "text/plain": [
              "0.1393396067657661"
            ]
          },
          "metadata": {
            "tags": []
          },
          "execution_count": 43
        }
      ]
    },
    {
      "cell_type": "code",
      "metadata": {
        "colab": {
          "base_uri": "https://localhost:8080/",
          "height": 320
        },
        "id": "IMnCmdBMo1hO",
        "outputId": "8e1588dd-413f-46c0-bb44-daf6f15aec19"
      },
      "source": [
        "#shit train predictions for plotting\n",
        "look_back=100\n",
        "trainPredictPlot = numpy.empty_like(df1)\n",
        "trainPredictPlot[:, :] = np.nan\n",
        "trainPredictPlot[look_back:len(train_predict)+look_back,:] = train_predict\n",
        "#shift test predictions for plotting\n",
        "testPredictPlot = numpy.empty_like(df1)\n",
        "testPredictPlot[:,:] = numpy.nan\n",
        "testPredictPlot[len(train_predict)+(look_back*2)+1:len(df1)-1,:] = test_predict\n",
        "#plot baseline and predictions\n",
        "plt.figure(figsize = (13, 5))\n",
        "plt.plot(scalar.inverse_transform(df1),linewidth=2)\n",
        "plt.plot(trainPredictPlot, linewidth=2)\n",
        "plt.plot(testPredictPlot,linewidth=2)\n",
        "plt.show() "
      ],
      "execution_count": null,
      "outputs": [
        {
          "output_type": "display_data",
          "data": {
            "image/png": "[encoded data removed]",
            "text/plain": [
              "<Figure size 936x360 with 1 Axes>"
            ]
          },
          "metadata": {
            "tags": [],
            "needs_background": "light"
          }
        }
      ]
    }
  ]
}